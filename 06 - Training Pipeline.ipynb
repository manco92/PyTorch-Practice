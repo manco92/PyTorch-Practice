{
 "cells": [
  {
   "cell_type": "markdown",
   "metadata": {},
   "source": [
    "## PyTorch Tutorial #06 - Training Pipeline"
   ]
  },
  {
   "cell_type": "code",
   "execution_count": 1,
   "metadata": {},
   "outputs": [
    {
     "name": "stderr",
     "output_type": "stream",
     "text": [
      "c:\\Users\\Leandro\\source\\repos\\PyTorchTest\\PyTorchTest\\TorchEnv\\lib\\site-packages\\tqdm\\auto.py:22: TqdmWarning: IProgress not found. Please update jupyter and ipywidgets. See https://ipywidgets.readthedocs.io/en/stable/user_install.html\n",
      "  from .autonotebook import tqdm as notebook_tqdm\n"
     ]
    }
   ],
   "source": [
    "import torch\n",
    "import torch.nn as nn"
   ]
  },
  {
   "cell_type": "code",
   "execution_count": null,
   "metadata": {},
   "outputs": [],
   "source": [
    "# 1) Design model (input, output size, forward pass)\n",
    "# 2) Construct loss and optimizer\n",
    "# 3) Training loop\n",
    "#   - forward pass> compute prediction\n",
    "#   - backward pass: gradients\n",
    "#   - update weights"
   ]
  },
  {
   "cell_type": "markdown",
   "metadata": {},
   "source": [
    "### Ejemplo de implementación de regresión lineal con módulo Linear de PyTorch"
   ]
  },
  {
   "cell_type": "code",
   "execution_count": 20,
   "metadata": {},
   "outputs": [],
   "source": [
    "X = torch.tensor([[1], [2], [3], [4]], dtype = torch.float32)\n",
    "y = torch.tensor([[2], [4], [6], [8]], dtype = torch.float32)\n",
    "\n",
    "X_test = torch.tensor([5], dtype = torch.float32)\n",
    "\n",
    "n_samples, n_features = X.shape"
   ]
  },
  {
   "cell_type": "code",
   "execution_count": 21,
   "metadata": {},
   "outputs": [],
   "source": [
    "# Defino la función de pasada forward.\n",
    "\n",
    "input_size = n_features\n",
    "output_size = n_features\n",
    "model = nn.Linear(in_features = n_features, out_features = n_features)"
   ]
  },
  {
   "cell_type": "code",
   "execution_count": 22,
   "metadata": {},
   "outputs": [
    {
     "name": "stdout",
     "output_type": "stream",
     "text": [
      "Prediction before training: f(5) = 4.711\n",
      "epoch 1: w = 1.021, loss = 7.66454315\n",
      "epoch 11: w = 1.659, loss = 0.26685733\n",
      "epoch 21: w = 1.767, loss = 0.07147100\n",
      "epoch 31: w = 1.789, loss = 0.06265768\n",
      "epoch 41: w = 1.798, loss = 0.05889031\n",
      "epoch 51: w = 1.805, loss = 0.05545948\n",
      "epoch 61: w = 1.810, loss = 0.05223138\n",
      "epoch 71: w = 1.816, loss = 0.04919121\n",
      "epoch 81: w = 1.821, loss = 0.04632804\n",
      "epoch 91: w = 1.827, loss = 0.04363157\n",
      "Prediction after training: f(5) = 9.652\n"
     ]
    }
   ],
   "source": [
    "# Pipeline de entrenamiento.\n",
    "\n",
    "print(f'Prediction before training: f(5) = {model(X_test).item():.3f}')\n",
    "\n",
    "# Training\n",
    "learning_rate = 0.01\n",
    "n_iters = 100\n",
    "\n",
    "loss = nn.MSELoss()\n",
    "optimizer = torch.optim.SGD(model.parameters(), lr = learning_rate)\n",
    "\n",
    "for epoch in range(n_iters):\n",
    "    # Prediction (forward pass):\n",
    "    y_pred = model(X)\n",
    "\n",
    "    # Loss.\n",
    "    l = loss(y, y_pred)\n",
    "\n",
    "    # Gradient = backward pass.\n",
    "    l.backward() # dl/dw\n",
    "\n",
    "    # Update weights.\n",
    "    optimizer.step()\n",
    "\n",
    "    # Zero gradients.\n",
    "    optimizer.zero_grad()\n",
    "\n",
    "    if epoch % 10 == 0:\n",
    "        [w, b] = model.parameters()\n",
    "        print(f'epoch {epoch+1}: w = {w[0][0].item():.3f}, loss = {l:.8f}')\n",
    "\n",
    "print(f'Prediction after training: f(5) = {model(X_test).item():.3f}')"
   ]
  },
  {
   "cell_type": "markdown",
   "metadata": {},
   "source": [
    "### Ejemplo de Custom Model"
   ]
  },
  {
   "cell_type": "code",
   "execution_count": 26,
   "metadata": {},
   "outputs": [],
   "source": [
    "# Así creamos un modelo de red customizado.\n",
    "class LinearRegression(nn.Module):\n",
    "    def __init__(self, input_dim, output_dim):\n",
    "        super(LinearRegression, self).__init__()\n",
    "        # define layers\n",
    "        self.lin = nn.Linear(input_dim, output_dim)\n",
    "\n",
    "    def forward(self, x):\n",
    "        return self.lin(x)"
   ]
  },
  {
   "cell_type": "code",
   "execution_count": 24,
   "metadata": {},
   "outputs": [],
   "source": [
    "model = LinearRegression(input_size, output_size)"
   ]
  },
  {
   "cell_type": "code",
   "execution_count": 25,
   "metadata": {},
   "outputs": [
    {
     "name": "stdout",
     "output_type": "stream",
     "text": [
      "Prediction before training: f(5) = -2.170\n",
      "epoch 1: w = -0.271, loss = 40.20220947\n",
      "epoch 11: w = 1.189, loss = 1.44330812\n",
      "epoch 21: w = 1.437, loss = 0.41705585\n",
      "epoch 31: w = 1.490, loss = 0.36840260\n",
      "epoch 41: w = 1.511, loss = 0.34632900\n",
      "epoch 51: w = 1.526, loss = 0.32615456\n",
      "epoch 61: w = 1.540, loss = 0.30717027\n",
      "epoch 71: w = 1.554, loss = 0.28929126\n",
      "epoch 81: w = 1.567, loss = 0.27245325\n",
      "epoch 91: w = 1.580, loss = 0.25659508\n",
      "Prediction after training: f(5) = 9.157\n"
     ]
    }
   ],
   "source": [
    "# Pipeline de entrenamiento.\n",
    "\n",
    "print(f'Prediction before training: f(5) = {model(X_test).item():.3f}')\n",
    "\n",
    "# Training\n",
    "learning_rate = 0.01\n",
    "n_iters = 100\n",
    "\n",
    "loss = nn.MSELoss()\n",
    "optimizer = torch.optim.SGD(model.parameters(), lr = learning_rate)\n",
    "\n",
    "for epoch in range(n_iters):\n",
    "    # Prediction (forward pass):\n",
    "    y_pred = model(X)\n",
    "\n",
    "    # Loss.\n",
    "    l = loss(y, y_pred)\n",
    "\n",
    "    # Gradient = backward pass.\n",
    "    l.backward() # dl/dw\n",
    "\n",
    "    # Update weights.\n",
    "    optimizer.step()\n",
    "\n",
    "    # Zero gradients.\n",
    "    optimizer.zero_grad()\n",
    "\n",
    "    if epoch % 10 == 0:\n",
    "        [w, b] = model.parameters()\n",
    "        print(f'epoch {epoch+1}: w = {w[0][0].item():.3f}, loss = {l:.8f}')\n",
    "\n",
    "print(f'Prediction after training: f(5) = {model(X_test).item():.3f}')"
   ]
  }
 ],
 "metadata": {
  "kernelspec": {
   "display_name": "Python 3.9.13 ('TorchEnv')",
   "language": "python",
   "name": "python3"
  },
  "language_info": {
   "codemirror_mode": {
    "name": "ipython",
    "version": 3
   },
   "file_extension": ".py",
   "mimetype": "text/x-python",
   "name": "python",
   "nbconvert_exporter": "python",
   "pygments_lexer": "ipython3",
   "version": "3.9.13"
  },
  "orig_nbformat": 4,
  "vscode": {
   "interpreter": {
    "hash": "6ea33a22cf4f039de5b2528b61eb0ece0416276158b9abef79c964e3a5962093"
   }
  }
 },
 "nbformat": 4,
 "nbformat_minor": 2
}
